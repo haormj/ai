{
 "cells": [
  {
   "cell_type": "code",
   "execution_count": 1,
   "metadata": {},
   "outputs": [],
   "source": [
    "# 通过对tensorflow的学习，了解了基本的使用，不过学习和实践还是有区别的\n",
    "# 在实际生活中，我们有很多的图片，为了方便我自己学习我打算进行一个实验\n",
    "# 1. 自己准备原材料，通过软件绘制5*5px的png图片，其中主要是图形，然后给定标签\n",
    "# 2. 在tensorflow建立模型，并对其进行训练，然后输入新的内容，看是否可以识别\n",
    "# 如果上面的实验完成后，我们就有了一个解决图像识别的利器，自己手动标注，通过机器学习，后面的数据进行分类\n",
    "\n",
    "# 实践\n",
    "# 创建 3*3px的简单图片作为并添加类别到dataset中，并标注类别\n",
    "# 当然测试集和数据集都是一样的，只是一个用户训练分一部分作为训练\n"
   ]
  },
  {
   "cell_type": "code",
   "execution_count": 88,
   "metadata": {},
   "outputs": [
    {
     "data": {
      "text/plain": [
       "array(['star', 'circle', 'rect', 'circle', 'rect', 'circle', 'star',\n",
       "       'star', 'rect', 'star', 'rect', 'circle'], dtype='<U6')"
      ]
     },
     "execution_count": 88,
     "metadata": {},
     "output_type": "execute_result"
    }
   ],
   "source": [
    "# 遍历目录读取所有图片，并将文件名作为其标签, 准备数据\n",
    "import os\n",
    "import png\n",
    "import numpy as np\n",
    "\n",
    "dir = './08.resource'\n",
    "fs = os.listdir(dir)\n",
    "\n",
    "X_list = []\n",
    "y_list = []\n",
    "\n",
    "\n",
    "for f in fs:\n",
    "    label = f.split('.')[0].split('-')[0]\n",
    "    p = os.path.join(dir,f)\n",
    "    _,_,rows,_ = png.Reader(p).read_flat()\n",
    "    X_list.append(rows.tolist())\n",
    "    y_list.append(label)\n",
    "\n",
    "X_raw = np.array(X_list, dtype=np.float64).reshape(12,100)\n",
    "y_raw = np.array(y_list, dtype=np.str)\n",
    "y_raw"
   ]
  },
  {
   "cell_type": "code",
   "execution_count": 89,
   "metadata": {},
   "outputs": [
    {
     "data": {
      "text/plain": [
       "array([2, 0, 1, 0, 1, 0, 2, 2, 1, 2, 1, 0])"
      ]
     },
     "execution_count": 89,
     "metadata": {},
     "output_type": "execute_result"
    }
   ],
   "source": [
    "from sklearn.preprocessing import LabelEncoder\n",
    "le = LabelEncoder()\n",
    "y = le.fit_transform(y_raw)\n",
    "X = X_raw\n",
    "y"
   ]
  },
  {
   "cell_type": "code",
   "execution_count": 117,
   "metadata": {},
   "outputs": [
    {
     "data": {
      "text/plain": [
       "0.6666666666666666"
      ]
     },
     "execution_count": 117,
     "metadata": {},
     "output_type": "execute_result"
    }
   ],
   "source": [
    "# 分割数据集\n",
    "from sklearn.model_selection import train_test_split\n",
    "X_train, X_test, y_train, y_test = train_test_split(X, y, test_size=0.2,stratify=y)\n",
    "\n",
    "# 数据标准化\n",
    "from sklearn.preprocessing import StandardScaler\n",
    "ss = StandardScaler()\n",
    "ss.fit(X_train)\n",
    "X_train_std = ss.transform(X_train)\n",
    "X_test_std = ss.transform(X_test)\n",
    "\n",
    "\n",
    "from sklearn.linear_model import LogisticRegression\n",
    "lr = LogisticRegression(C=50.0)\n",
    "lr.fit(X_train_std, y_train)\n",
    "lr.score(X_test_std, y_test)"
   ]
  },
  {
   "cell_type": "code",
   "execution_count": 130,
   "metadata": {},
   "outputs": [
    {
     "name": "stdout",
     "output_type": "stream",
     "text": [
      "[ True]\n"
     ]
    }
   ],
   "source": [
    "# 预测矩形\n",
    "r = png.Reader('./08.resource/rect-test.png')\n",
    "_,_,rows,_ = r.read_flat()\n",
    "X_rect_raw = np.array(rows, dtype=np.float64).reshape(1,100)\n",
    "y_rect_raw = np.array(['rect'])\n",
    "\n",
    "X_rect_std = ss.transform(X_rect_raw)\n",
    "y_rect = le.transform(y_rect_raw)\n",
    "\n",
    "\n",
    "y_pred = lr.predict(X_rect_std)\n",
    "print(y_rect == y_pred)"
   ]
  },
  {
   "cell_type": "code",
   "execution_count": 132,
   "metadata": {},
   "outputs": [
    {
     "name": "stdout",
     "output_type": "stream",
     "text": [
      "[ True]\n"
     ]
    }
   ],
   "source": [
    "# 预测圆\n",
    "r = png.Reader('./08.resource/circle-test.png')\n",
    "_,_,rows,_ = r.read_flat()\n",
    "X_circle_raw = np.array(rows, dtype=np.float64).reshape(1,100)\n",
    "y_circle_raw = np.array(['circle'])\n",
    "\n",
    "X_circle_std = ss.transform(X_rect_raw)\n",
    "y_circle = le.transform(y_rect_raw)\n",
    "\n",
    "\n",
    "y_pred = lr.predict(X_rect_std)\n",
    "print(y_circle == y_pred)"
   ]
  },
  {
   "cell_type": "code",
   "execution_count": 133,
   "metadata": {},
   "outputs": [
    {
     "name": "stdout",
     "output_type": "stream",
     "text": [
      "[ True]\n"
     ]
    }
   ],
   "source": [
    "# 预测星\n",
    "r = png.Reader('./08.resource/star-test.png')\n",
    "_,_,rows,_ = r.read_flat()\n",
    "X_star_raw = np.array(rows, dtype=np.float64).reshape(1,100)\n",
    "y_star_raw = np.array(['star'])\n",
    "\n",
    "X_star_std = ss.transform(X_star_raw)\n",
    "y_star = le.transform(y_star_raw)\n",
    "\n",
    "\n",
    "y_pred = lr.predict(X_star_std)\n",
    "print(y_star == y_pred)"
   ]
  },
  {
   "cell_type": "code",
   "execution_count": 135,
   "metadata": {},
   "outputs": [
    {
     "name": "stdout",
     "output_type": "stream",
     "text": [
      "[False]\n",
      "[0]\n"
     ]
    }
   ],
   "source": [
    "# 增加难度，直接给出不是正方形\n",
    "r = png.Reader('./08.resource/rect-test2.png')\n",
    "_,_,rows,_ = r.read_flat()\n",
    "X_rect_raw = np.array(rows, dtype=np.float64).reshape(1,100)\n",
    "y_rect_raw = np.array(['rect'])\n",
    "\n",
    "X_rect_std = ss.transform(X_rect_raw)\n",
    "y_rect = le.transform(y_rect_raw)\n",
    "\n",
    "\n",
    "y_pred = lr.predict(X_rect_std)\n",
    "print(y_rect == y_pred)\n",
    "print(y_pred)\n",
    "# 通过结果我们可以看到，他已经不能够识别了，不过因为测试数据中是,直接认为我给出的数据是圆，实际上给出的是长方形\n",
    "# 之所以出现这种结果其实也是可以理解的，是因为数据集很小，从而导致无法准确的识别，有了这个基础之后，我其实有一个问题\n",
    "# 所有的分类模型我都可以用于识别图片，只是纠结的其实是如何将图片转化为之前训练的数据，最后其实就是将图片的数据直接拉平，\n",
    "# 其中tensorflow按照我现在的看法，他那边主要是实现了神经网络，"
   ]
  },
  {
   "cell_type": "code",
   "execution_count": null,
   "metadata": {},
   "outputs": [],
   "source": []
  }
 ],
 "metadata": {
  "kernelspec": {
   "display_name": "Python 3",
   "language": "python",
   "name": "python3"
  },
  "language_info": {
   "codemirror_mode": {
    "name": "ipython",
    "version": 3
   },
   "file_extension": ".py",
   "mimetype": "text/x-python",
   "name": "python",
   "nbconvert_exporter": "python",
   "pygments_lexer": "ipython3",
   "version": "3.6.8"
  }
 },
 "nbformat": 4,
 "nbformat_minor": 2
}
