{
 "cells": [
  {
   "cell_type": "markdown",
   "metadata": {},
   "source": [
    "通过上面的学习，其实不过都是框架的使用者，从而如果需要学习，则直接去看keras的官方文档，然后从其中获取知识，也就是基本的使用，看keras都可以解决什么问题？ 当用熟悉之后，可以继续深入去学习，刚开始学习的时候，先看keras能够解决什么问题？\n",
    "\n",
    "研究 https://github.com/keras-team/keras\n",
    "去学习和看Keras的示例，这个当然可以直接开一个仓库，在github上梳理自己学习keras的过程\n"
   ]
  }
 ],
 "metadata": {
  "kernelspec": {
   "display_name": "Python 3",
   "language": "python",
   "name": "python3"
  },
  "language_info": {
   "codemirror_mode": {
    "name": "ipython",
    "version": 3
   },
   "file_extension": ".py",
   "mimetype": "text/x-python",
   "name": "python",
   "nbconvert_exporter": "python",
   "pygments_lexer": "ipython3",
   "version": "3.6.8"
  }
 },
 "nbformat": 4,
 "nbformat_minor": 2
}
