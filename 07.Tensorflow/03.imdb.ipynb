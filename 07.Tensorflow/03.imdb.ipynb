{
 "cells": [
  {
   "cell_type": "code",
   "execution_count": 18,
   "metadata": {},
   "outputs": [
    {
     "name": "stdout",
     "output_type": "stream",
     "text": [
      "1.13.1\n"
     ]
    }
   ],
   "source": [
    "# https://www.tensorflow.org/tutorials/keras/basic_classification\n",
    "from __future__ import absolute_import, division, print_function\n",
    "\n",
    "import tensorflow as tf\n",
    "from tensorflow import keras\n",
    "\n",
    "import numpy as np\n",
    "\n",
    "print(tf.__version__)"
   ]
  },
  {
   "cell_type": "code",
   "execution_count": 19,
   "metadata": {},
   "outputs": [],
   "source": [
    "imdb = keras.datasets.imdb\n",
    "(train_data, train_labels), (test_data, test_labels) = imdb.load_data(num_words=10000)"
   ]
  },
  {
   "cell_type": "code",
   "execution_count": 43,
   "metadata": {},
   "outputs": [
    {
     "name": "stdout",
     "output_type": "stream",
     "text": [
      "Training entries: 25000, labels: 25000\n",
      "Test entries: 25000, labels: 25000\n"
     ]
    }
   ],
   "source": [
    "print(\"Training entries: {}, labels: {}\".format(len(train_data), len(train_labels)))\n",
    "print(\"Test entries: {}, labels: {}\".format(len(test_data), len(test_labels)))"
   ]
  },
  {
   "cell_type": "code",
   "execution_count": 21,
   "metadata": {},
   "outputs": [
    {
     "name": "stdout",
     "output_type": "stream",
     "text": [
      "[1, 14, 22, 16, 43, 530, 973, 1622, 1385, 65, 458, 4468, 66, 3941, 4, 173, 36, 256, 5, 25, 100, 43, 838, 112, 50, 670, 2, 9, 35, 480, 284, 5, 150, 4, 172, 112, 167, 2, 336, 385, 39, 4, 172, 4536, 1111, 17, 546, 38, 13, 447, 4, 192, 50, 16, 6, 147, 2025, 19, 14, 22, 4, 1920, 4613, 469, 4, 22, 71, 87, 12, 16, 43, 530, 38, 76, 15, 13, 1247, 4, 22, 17, 515, 17, 12, 16, 626, 18, 2, 5, 62, 386, 12, 8, 316, 8, 106, 5, 4, 2223, 5244, 16, 480, 66, 3785, 33, 4, 130, 12, 16, 38, 619, 5, 25, 124, 51, 36, 135, 48, 25, 1415, 33, 6, 22, 12, 215, 28, 77, 52, 5, 14, 407, 16, 82, 2, 8, 4, 107, 117, 5952, 15, 256, 4, 2, 7, 3766, 5, 723, 36, 71, 43, 530, 476, 26, 400, 317, 46, 7, 4, 2, 1029, 13, 104, 88, 4, 381, 15, 297, 98, 32, 2071, 56, 26, 141, 6, 194, 7486, 18, 4, 226, 22, 21, 134, 476, 26, 480, 5, 144, 30, 5535, 18, 51, 36, 28, 224, 92, 25, 104, 4, 226, 65, 16, 38, 1334, 88, 12, 16, 283, 5, 16, 4472, 113, 103, 32, 15, 16, 5345, 19, 178, 32]\n"
     ]
    }
   ],
   "source": [
    "print(train_data[0])"
   ]
  },
  {
   "cell_type": "code",
   "execution_count": 22,
   "metadata": {},
   "outputs": [
    {
     "data": {
      "text/plain": [
       "(218, 189)"
      ]
     },
     "execution_count": 22,
     "metadata": {},
     "output_type": "execute_result"
    }
   ],
   "source": [
    "len(train_data[0]), len(train_data[1])"
   ]
  },
  {
   "cell_type": "code",
   "execution_count": 23,
   "metadata": {},
   "outputs": [],
   "source": [
    "word_index = imdb.get_word_index()\n",
    "\n",
    "word_index = {k:(v+3) for k,v in word_index.items()}\n",
    "word_index[\"<PAD>\"] = 0\n",
    "word_index[\"<START>\"] = 1\n",
    "word_index[\"UNK\"] = 2\n",
    "word_index[\"UNUSED\"] = 3\n",
    "\n",
    "reverse_word_index = dict([(value, key) for (key, value) in word_index.items()])\n",
    "def decode_review(text):\n",
    "    return ' '.join([reverse_word_index.get(i, '?') for i in text])"
   ]
  },
  {
   "cell_type": "code",
   "execution_count": 24,
   "metadata": {},
   "outputs": [
    {
     "data": {
      "text/plain": [
       "\"<START> this film was just brilliant casting location scenery story direction everyone's really suited the part they played and you could just imagine being there robert UNK is an amazing actor and now the same being director UNK father came from the same scottish island as myself so i loved the fact there was a real connection with this film the witty remarks throughout the film were great it was just brilliant so much that i bought the film as soon as it was released for UNK and would recommend it to everyone to watch and the fly fishing was amazing really cried at the end it was so sad and you know what they say if you cry at a film it must have been good and this definitely was also UNK to the two little boy's that played the UNK of norman and paul they were just brilliant children are often left out of the UNK list i think because the stars that play them all grown up are such a big profile for the whole film but these children are amazing and should be praised for what they have done don't you think the whole story was so lovely because it was true and was someone's life after all that was shared with us all\""
      ]
     },
     "execution_count": 24,
     "metadata": {},
     "output_type": "execute_result"
    }
   ],
   "source": [
    "decode_review(train_data[0])"
   ]
  },
  {
   "cell_type": "code",
   "execution_count": 25,
   "metadata": {},
   "outputs": [
    {
     "data": {
      "text/plain": [
       "\"<START> big hair big boobs bad music and a giant safety pin these are the words to best describe this terrible movie i love cheesy horror movies and i've seen hundreds but this had got to be on of the worst ever made the plot is paper thin and ridiculous the acting is an abomination the script is completely laughable the best is the end showdown with the cop and how he worked out who the killer is it's just so damn terribly written the clothes are sickening and funny in equal UNK the hair is big lots of boobs UNK men wear those cut UNK shirts that show off their UNK sickening that men actually wore them and the music is just UNK trash that plays over and over again in almost every scene there is trashy music boobs and UNK taking away bodies and the gym still doesn't close for UNK all joking aside this is a truly bad film whose only charm is to look back on the disaster that was the 80's and have a good old laugh at how bad everything was back then\""
      ]
     },
     "execution_count": 25,
     "metadata": {},
     "output_type": "execute_result"
    }
   ],
   "source": [
    "decode_review(train_data[1])"
   ]
  },
  {
   "cell_type": "code",
   "execution_count": 26,
   "metadata": {},
   "outputs": [
    {
     "name": "stdout",
     "output_type": "stream",
     "text": [
      "(25000,)\n"
     ]
    }
   ],
   "source": [
    "print(train_data.shape)\n",
    "train_data = keras.preprocessing.sequence.pad_sequences(train_data,\n",
    "                                                        value=word_index[\"<PAD>\"],\n",
    "                                                        padding='post',\n",
    "                                                        maxlen=256)\n",
    "test_data = keras.preprocessing.sequence.pad_sequences(test_data,\n",
    "                                                       value=word_index[\"<PAD>\"],\n",
    "                                                       padding='post',\n",
    "                                                       maxlen=256)"
   ]
  },
  {
   "cell_type": "code",
   "execution_count": 27,
   "metadata": {},
   "outputs": [
    {
     "data": {
      "text/plain": [
       "(256, 256)"
      ]
     },
     "execution_count": 27,
     "metadata": {},
     "output_type": "execute_result"
    }
   ],
   "source": [
    "len(train_data[0]), len(train_data[1])"
   ]
  },
  {
   "cell_type": "code",
   "execution_count": 28,
   "metadata": {},
   "outputs": [
    {
     "name": "stdout",
     "output_type": "stream",
     "text": [
      "[   1   14   22   16   43  530  973 1622 1385   65  458 4468   66 3941\n",
      "    4  173   36  256    5   25  100   43  838  112   50  670    2    9\n",
      "   35  480  284    5  150    4  172  112  167    2  336  385   39    4\n",
      "  172 4536 1111   17  546   38   13  447    4  192   50   16    6  147\n",
      " 2025   19   14   22    4 1920 4613  469    4   22   71   87   12   16\n",
      "   43  530   38   76   15   13 1247    4   22   17  515   17   12   16\n",
      "  626   18    2    5   62  386   12    8  316    8  106    5    4 2223\n",
      " 5244   16  480   66 3785   33    4  130   12   16   38  619    5   25\n",
      "  124   51   36  135   48   25 1415   33    6   22   12  215   28   77\n",
      "   52    5   14  407   16   82    2    8    4  107  117 5952   15  256\n",
      "    4    2    7 3766    5  723   36   71   43  530  476   26  400  317\n",
      "   46    7    4    2 1029   13  104   88    4  381   15  297   98   32\n",
      " 2071   56   26  141    6  194 7486   18    4  226   22   21  134  476\n",
      "   26  480    5  144   30 5535   18   51   36   28  224   92   25  104\n",
      "    4  226   65   16   38 1334   88   12   16  283    5   16 4472  113\n",
      "  103   32   15   16 5345   19  178   32    0    0    0    0    0    0\n",
      "    0    0    0    0    0    0    0    0    0    0    0    0    0    0\n",
      "    0    0    0    0    0    0    0    0    0    0    0    0    0    0\n",
      "    0    0    0    0]\n"
     ]
    }
   ],
   "source": [
    "print(train_data[0])"
   ]
  },
  {
   "cell_type": "code",
   "execution_count": 29,
   "metadata": {},
   "outputs": [
    {
     "data": {
      "text/plain": [
       "\"<START> this film was just brilliant casting location scenery story direction everyone's really suited the part they played and you could just imagine being there robert UNK is an amazing actor and now the same being director UNK father came from the same scottish island as myself so i loved the fact there was a real connection with this film the witty remarks throughout the film were great it was just brilliant so much that i bought the film as soon as it was released for UNK and would recommend it to everyone to watch and the fly fishing was amazing really cried at the end it was so sad and you know what they say if you cry at a film it must have been good and this definitely was also UNK to the two little boy's that played the UNK of norman and paul they were just brilliant children are often left out of the UNK list i think because the stars that play them all grown up are such a big profile for the whole film but these children are amazing and should be praised for what they have done don't you think the whole story was so lovely because it was true and was someone's life after all that was shared with us all <PAD> <PAD> <PAD> <PAD> <PAD> <PAD> <PAD> <PAD> <PAD> <PAD> <PAD> <PAD> <PAD> <PAD> <PAD> <PAD> <PAD> <PAD> <PAD> <PAD> <PAD> <PAD> <PAD> <PAD> <PAD> <PAD> <PAD> <PAD> <PAD> <PAD> <PAD> <PAD> <PAD> <PAD> <PAD> <PAD> <PAD> <PAD>\""
      ]
     },
     "execution_count": 29,
     "metadata": {},
     "output_type": "execute_result"
    }
   ],
   "source": [
    "decode_review(train_data[0])"
   ]
  },
  {
   "cell_type": "code",
   "execution_count": 30,
   "metadata": {},
   "outputs": [
    {
     "name": "stdout",
     "output_type": "stream",
     "text": [
      "WARNING:tensorflow:From /home/haormj/Develop/anaconda3/lib/python3.6/site-packages/tensorflow/python/ops/resource_variable_ops.py:435: colocate_with (from tensorflow.python.framework.ops) is deprecated and will be removed in a future version.\n",
      "Instructions for updating:\n",
      "Colocations handled automatically by placer.\n",
      "_________________________________________________________________\n",
      "Layer (type)                 Output Shape              Param #   \n",
      "=================================================================\n",
      "embedding (Embedding)        (None, None, 16)          160000    \n",
      "_________________________________________________________________\n",
      "global_average_pooling1d (Gl (None, 16)                0         \n",
      "_________________________________________________________________\n",
      "dense (Dense)                (None, 16)                272       \n",
      "_________________________________________________________________\n",
      "dense_1 (Dense)              (None, 1)                 17        \n",
      "=================================================================\n",
      "Total params: 160,289\n",
      "Trainable params: 160,289\n",
      "Non-trainable params: 0\n",
      "_________________________________________________________________\n"
     ]
    }
   ],
   "source": [
    "vocab_size = 10000\n",
    "\n",
    "model = keras.Sequential()\n",
    "model.add(keras.layers.Embedding(vocab_size, 16))\n",
    "model.add(keras.layers.GlobalAveragePooling1D())\n",
    "model.add(keras.layers.Dense(16, activation=tf.nn.relu))\n",
    "model.add(keras.layers.Dense(1, activation=tf.nn.sigmoid))\n",
    "\n",
    "model.summary()"
   ]
  },
  {
   "cell_type": "code",
   "execution_count": 31,
   "metadata": {},
   "outputs": [],
   "source": [
    "model.compile(optimizer='adam',\n",
    "              loss='binary_crossentropy',\n",
    "              metrics=['acc'])"
   ]
  },
  {
   "cell_type": "code",
   "execution_count": 32,
   "metadata": {},
   "outputs": [],
   "source": [
    "x_val = train_data[:10000]\n",
    "partial_x_train = train_data[10000:]\n",
    "\n",
    "y_val = train_labels[:10000]\n",
    "partial_y_train = train_labels[10000:]"
   ]
  },
  {
   "cell_type": "code",
   "execution_count": 34,
   "metadata": {},
   "outputs": [
    {
     "name": "stdout",
     "output_type": "stream",
     "text": [
      "Train on 15000 samples, validate on 10000 samples\n",
      "WARNING:tensorflow:From /home/haormj/Develop/anaconda3/lib/python3.6/site-packages/tensorflow/python/ops/math_ops.py:3066: to_int32 (from tensorflow.python.ops.math_ops) is deprecated and will be removed in a future version.\n",
      "Instructions for updating:\n",
      "Use tf.cast instead.\n",
      "Epoch 1/40\n",
      "15000/15000 [==============================] - 2s 106us/sample - loss: 0.6913 - acc: 0.6356 - val_loss: 0.6887 - val_acc: 0.7108\n",
      "Epoch 2/40\n",
      "15000/15000 [==============================] - 1s 56us/sample - loss: 0.6845 - acc: 0.7234 - val_loss: 0.6800 - val_acc: 0.7338\n",
      "Epoch 3/40\n",
      "15000/15000 [==============================] - 1s 58us/sample - loss: 0.6717 - acc: 0.7561 - val_loss: 0.6646 - val_acc: 0.7463\n",
      "Epoch 4/40\n",
      "15000/15000 [==============================] - 1s 61us/sample - loss: 0.6508 - acc: 0.7673 - val_loss: 0.6410 - val_acc: 0.7498\n",
      "Epoch 5/40\n",
      "15000/15000 [==============================] - 1s 57us/sample - loss: 0.6204 - acc: 0.7891 - val_loss: 0.6090 - val_acc: 0.7804\n",
      "Epoch 6/40\n",
      "15000/15000 [==============================] - 1s 55us/sample - loss: 0.5806 - acc: 0.8101 - val_loss: 0.5695 - val_acc: 0.8020\n",
      "Epoch 7/40\n",
      "15000/15000 [==============================] - 1s 56us/sample - loss: 0.5340 - acc: 0.8265 - val_loss: 0.5249 - val_acc: 0.8170\n",
      "Epoch 8/40\n",
      "15000/15000 [==============================] - 1s 56us/sample - loss: 0.4855 - acc: 0.8437 - val_loss: 0.4825 - val_acc: 0.8329\n",
      "Epoch 9/40\n",
      "15000/15000 [==============================] - 1s 65us/sample - loss: 0.4398 - acc: 0.8593 - val_loss: 0.4440 - val_acc: 0.8427\n",
      "Epoch 10/40\n",
      "15000/15000 [==============================] - 1s 56us/sample - loss: 0.3993 - acc: 0.8723 - val_loss: 0.4123 - val_acc: 0.8500\n",
      "Epoch 11/40\n",
      "15000/15000 [==============================] - 1s 55us/sample - loss: 0.3652 - acc: 0.8809 - val_loss: 0.3863 - val_acc: 0.8587\n",
      "Epoch 12/40\n",
      "15000/15000 [==============================] - 1s 56us/sample - loss: 0.3367 - acc: 0.8887 - val_loss: 0.3663 - val_acc: 0.8614\n",
      "Epoch 13/40\n",
      "15000/15000 [==============================] - 1s 58us/sample - loss: 0.3135 - acc: 0.8953 - val_loss: 0.3490 - val_acc: 0.8686\n",
      "Epoch 14/40\n",
      "15000/15000 [==============================] - 1s 55us/sample - loss: 0.2928 - acc: 0.9008 - val_loss: 0.3364 - val_acc: 0.8710\n",
      "Epoch 15/40\n",
      "15000/15000 [==============================] - 1s 57us/sample - loss: 0.2755 - acc: 0.9050 - val_loss: 0.3261 - val_acc: 0.8739\n",
      "Epoch 16/40\n",
      "15000/15000 [==============================] - 1s 57us/sample - loss: 0.2601 - acc: 0.9093 - val_loss: 0.3175 - val_acc: 0.8750\n",
      "Epoch 17/40\n",
      "15000/15000 [==============================] - 1s 58us/sample - loss: 0.2459 - acc: 0.9147 - val_loss: 0.3104 - val_acc: 0.8774\n",
      "Epoch 18/40\n",
      "15000/15000 [==============================] - 1s 56us/sample - loss: 0.2334 - acc: 0.9200 - val_loss: 0.3044 - val_acc: 0.8807\n",
      "Epoch 19/40\n",
      "15000/15000 [==============================] - 1s 58us/sample - loss: 0.2221 - acc: 0.9227 - val_loss: 0.2993 - val_acc: 0.8822\n",
      "Epoch 20/40\n",
      "15000/15000 [==============================] - 1s 59us/sample - loss: 0.2119 - acc: 0.9263 - val_loss: 0.2957 - val_acc: 0.8816\n",
      "Epoch 21/40\n",
      "15000/15000 [==============================] - 1s 65us/sample - loss: 0.2016 - acc: 0.9320 - val_loss: 0.2927 - val_acc: 0.8827\n",
      "Epoch 22/40\n",
      "15000/15000 [==============================] - 1s 58us/sample - loss: 0.1929 - acc: 0.9347 - val_loss: 0.2903 - val_acc: 0.8840\n",
      "Epoch 23/40\n",
      "15000/15000 [==============================] - 1s 69us/sample - loss: 0.1842 - acc: 0.9392 - val_loss: 0.2892 - val_acc: 0.8841\n",
      "Epoch 24/40\n",
      "15000/15000 [==============================] - 1s 66us/sample - loss: 0.1767 - acc: 0.9427 - val_loss: 0.2875 - val_acc: 0.8844\n",
      "Epoch 25/40\n",
      "15000/15000 [==============================] - 1s 63us/sample - loss: 0.1690 - acc: 0.9463 - val_loss: 0.2861 - val_acc: 0.8849\n",
      "Epoch 26/40\n",
      "15000/15000 [==============================] - 1s 62us/sample - loss: 0.1621 - acc: 0.9487 - val_loss: 0.2867 - val_acc: 0.8834\n",
      "Epoch 27/40\n",
      "15000/15000 [==============================] - 1s 65us/sample - loss: 0.1556 - acc: 0.9509 - val_loss: 0.2862 - val_acc: 0.8845\n",
      "Epoch 28/40\n",
      "15000/15000 [==============================] - 1s 61us/sample - loss: 0.1493 - acc: 0.9543 - val_loss: 0.2866 - val_acc: 0.8854\n",
      "Epoch 29/40\n",
      "15000/15000 [==============================] - 1s 64us/sample - loss: 0.1439 - acc: 0.9568 - val_loss: 0.2883 - val_acc: 0.8834\n",
      "Epoch 30/40\n",
      "15000/15000 [==============================] - 1s 65us/sample - loss: 0.1381 - acc: 0.9581 - val_loss: 0.2876 - val_acc: 0.8861\n",
      "Epoch 31/40\n",
      "15000/15000 [==============================] - 1s 59us/sample - loss: 0.1323 - acc: 0.9612 - val_loss: 0.2887 - val_acc: 0.8864\n",
      "Epoch 32/40\n",
      "15000/15000 [==============================] - 1s 58us/sample - loss: 0.1272 - acc: 0.9644 - val_loss: 0.2902 - val_acc: 0.8861\n",
      "Epoch 33/40\n",
      "15000/15000 [==============================] - 1s 59us/sample - loss: 0.1221 - acc: 0.9651 - val_loss: 0.2925 - val_acc: 0.8851\n",
      "Epoch 34/40\n",
      "15000/15000 [==============================] - 1s 59us/sample - loss: 0.1176 - acc: 0.9671 - val_loss: 0.2946 - val_acc: 0.8853\n",
      "Epoch 35/40\n",
      "15000/15000 [==============================] - 1s 62us/sample - loss: 0.1134 - acc: 0.9677 - val_loss: 0.2972 - val_acc: 0.8847\n",
      "Epoch 36/40\n",
      "15000/15000 [==============================] - 1s 59us/sample - loss: 0.1090 - acc: 0.9701 - val_loss: 0.2989 - val_acc: 0.8850\n",
      "Epoch 37/40\n",
      "15000/15000 [==============================] - 1s 61us/sample - loss: 0.1046 - acc: 0.9709 - val_loss: 0.3015 - val_acc: 0.8838\n",
      "Epoch 38/40\n",
      "15000/15000 [==============================] - 1s 64us/sample - loss: 0.1007 - acc: 0.9724 - val_loss: 0.3051 - val_acc: 0.8819\n",
      "Epoch 39/40\n",
      "15000/15000 [==============================] - 1s 64us/sample - loss: 0.0974 - acc: 0.9739 - val_loss: 0.3086 - val_acc: 0.8824\n",
      "Epoch 40/40\n",
      "15000/15000 [==============================] - 1s 60us/sample - loss: 0.0934 - acc: 0.9759 - val_loss: 0.3114 - val_acc: 0.8831\n"
     ]
    }
   ],
   "source": [
    "history = model.fit(partial_x_train,\n",
    "                    partial_y_train,\n",
    "                    epochs=40,\n",
    "                    batch_size=512,\n",
    "                    validation_data=(x_val, y_val),\n",
    "                    verbose=1)"
   ]
  },
  {
   "cell_type": "code",
   "execution_count": 35,
   "metadata": {},
   "outputs": [
    {
     "name": "stdout",
     "output_type": "stream",
     "text": [
      "25000/25000 [==============================] - 1s 37us/sample - loss: 0.3324 - acc: 0.8716\n",
      "[0.33243723517417906, 0.87156]\n"
     ]
    }
   ],
   "source": [
    "results = model.evaluate(test_data, test_labels)\n",
    "\n",
    "print(results)"
   ]
  },
  {
   "cell_type": "code",
   "execution_count": 37,
   "metadata": {},
   "outputs": [
    {
     "data": {
      "text/plain": [
       "dict_keys(['loss', 'acc', 'val_loss', 'val_acc'])"
      ]
     },
     "execution_count": 37,
     "metadata": {},
     "output_type": "execute_result"
    }
   ],
   "source": [
    "history_dict = history.history\n",
    "history_dict.keys()"
   ]
  },
  {
   "cell_type": "code",
   "execution_count": 39,
   "metadata": {},
   "outputs": [
    {
     "data": {
      "image/png": "[encoded data removed]",
      "text/plain": [
       "<Figure size 432x288 with 1 Axes>"
      ]
     },
     "metadata": {},
     "output_type": "display_data"
    }
   ],
   "source": [
    "import matplotlib.pyplot as plt\n",
    "\n",
    "acc = history_dict['acc']\n",
    "val_acc = history_dict['val_acc']\n",
    "loss = history_dict['loss']\n",
    "val_loss = history_dict['val_loss']\n",
    "\n",
    "epochs = range(1, len(acc) + 1)\n",
    "plt.plot(epochs, loss, 'bo', label='Training loss')\n",
    "plt.plot(epochs, val_loss, 'b', label='Validation loss')\n",
    "\n",
    "plt.title('Training and validation loss')\n",
    "plt.xlabel('Epochs')\n",
    "plt.ylabel('Loss')\n",
    "plt.legend()\n",
    "\n",
    "plt.show()"
   ]
  },
  {
   "cell_type": "code",
   "execution_count": 40,
   "metadata": {},
   "outputs": [
    {
     "data": {
      "image/png": "[encoded data removed]",
      "text/plain": [
       "<Figure size 432x288 with 1 Axes>"
      ]
     },
     "metadata": {},
     "output_type": "display_data"
    }
   ],
   "source": [
    "plt.clf()\n",
    "\n",
    "plt.plot(epochs, acc, 'bo', label='Training acc')\n",
    "plt.plot(epochs, val_acc, 'b', label='Validation acc')\n",
    "plt.title('Training and validation accuracy')\n",
    "plt.xlabel('Epochs')\n",
    "plt.ylabel('Accuracy')\n",
    "plt.legend()\n",
    "\n",
    "plt.show()"
   ]
  },
  {
   "cell_type": "code",
   "execution_count": null,
   "metadata": {},
   "outputs": [],
   "source": []
  }
 ],
 "metadata": {
  "kernelspec": {
   "display_name": "Python 3",
   "language": "python",
   "name": "python3"
  },
  "language_info": {
   "codemirror_mode": {
    "name": "ipython",
    "version": 3
   },
   "file_extension": ".py",
   "mimetype": "text/x-python",
   "name": "python",
   "nbconvert_exporter": "python",
   "pygments_lexer": "ipython3",
   "version": "3.6.8"
  }
 },
 "nbformat": 4,
 "nbformat_minor": 2
}
