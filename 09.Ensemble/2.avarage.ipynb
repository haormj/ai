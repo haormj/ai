{
 "cells": [
  {
   "cell_type": "code",
   "execution_count": 43,
   "metadata": {},
   "outputs": [
    {
     "name": "stdout",
     "output_type": "stream",
     "text": [
      "1.0\n"
     ]
    }
   ],
   "source": [
    "# 对最终预测的结构求平均\n",
    "from sklearn import datasets\n",
    "iris = datasets.load_iris()\n",
    "x = iris.data[:, [2, 3]]\n",
    "y = iris.target\n",
    "\n",
    "from sklearn.model_selection import train_test_split\n",
    "x_train, x_test, y_train, y_test = train_test_split(x, y, test_size=0.3, stratify=y)\n",
    "\n",
    "from sklearn.neighbors import KNeighborsClassifier\n",
    "from sklearn.linear_model import LogisticRegression\n",
    "from sklearn.tree import DecisionTreeClassifier\n",
    "\n",
    "knc = KNeighborsClassifier()\n",
    "lr = LogisticRegression()\n",
    "dtc = DecisionTreeClassifier()\n",
    "\n",
    "knc.fit(x_train, y_train)\n",
    "lr.fit(x_train, y_train)\n",
    "dtc.fit(x_train, y_train)\n",
    "\n",
    "y_pred_knc = knc.predict_proba(x_test)\n",
    "y_pred_lr = lr.predict_proba(x_test)\n",
    "y_pred_dtc = dtc.predict_proba(x_test)\n",
    "\n",
    "y_pred_proba = (y_pred_knc + y_pred_lr + y_pred_dtc) / 3\n",
    "# 遍历每行获取最大值,并和测试集比较\n",
    "\n",
    "y_pred = []\n",
    "for row in y_pred_proba:\n",
    "    max = 0\n",
    "    i = 0\n",
    "    for idx, column in enumerate(row):\n",
    "        if column > max:\n",
    "            max = column\n",
    "            i = idx\n",
    "    y_pred.append(i)\n",
    "\n",
    "\n",
    "sum = 0\n",
    "for i in range(len(y_pred)):\n",
    "    if y_pred[i] == y_test[i]:\n",
    "        sum += 1\n",
    "print(sum/len(y_pred))"
   ]
  },
  {
   "cell_type": "code",
   "execution_count": null,
   "metadata": {},
   "outputs": [],
   "source": []
  }
 ],
 "metadata": {
  "kernelspec": {
   "display_name": "Python 3",
   "language": "python",
   "name": "python3"
  },
  "language_info": {
   "codemirror_mode": {
    "name": "ipython",
    "version": 3
   },
   "file_extension": ".py",
   "mimetype": "text/x-python",
   "name": "python",
   "nbconvert_exporter": "python",
   "pygments_lexer": "ipython3",
   "version": "3.6.8"
  }
 },
 "nbformat": 4,
 "nbformat_minor": 2
}
