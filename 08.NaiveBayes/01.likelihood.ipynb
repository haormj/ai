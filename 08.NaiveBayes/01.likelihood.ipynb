{
 "cells": [
  {
   "cell_type": "markdown",
   "metadata": {},
   "source": [
    "1. 通过伯努利分布产生100个实验数据\n",
    "2. 假定数据服从伯努利服务\n",
    "3. 通过极大似然方法进行参数估计"
   ]
  },
  {
   "cell_type": "code",
   "execution_count": 3,
   "metadata": {},
   "outputs": [],
   "source": [
    "from scipy.stats import bernoulli\n",
    "\n",
    "# 生成实验数据\n",
    "data = bernoulli.rvs(0.5, size=100)"
   ]
  },
  {
   "cell_type": "code",
   "execution_count": 6,
   "metadata": {},
   "outputs": [
    {
     "name": "stdout",
     "output_type": "stream",
     "text": [
      "1    54\n",
      "0    46\n",
      "dtype: int64\n"
     ]
    }
   ],
   "source": [
    "# 假定数据服从伯努利分布，求似然函数\n",
    "# p^k(1-p)^(n-k)\n",
    "# 上述数据模拟了一次实现，n为100，看下出现1的个数即k\n",
    "import pandas as pd\n",
    "c = pd.value_counts(data)\n",
    "print(c)"
   ]
  },
  {
   "cell_type": "code",
   "execution_count": 23,
   "metadata": {},
   "outputs": [
    {
     "data": {
      "text/plain": [
       "[0, 27/50, 1]"
      ]
     },
     "execution_count": 23,
     "metadata": {},
     "output_type": "execute_result"
    }
   ],
   "source": [
    "# 从而可以得到似然函数，然后只需要求导，得到p就达到目的了\n",
    "\n",
    "\n",
    "import sympy\n",
    "\n",
    "p = sympy.symbols('p')\n",
    "d = sympy.diff(p**54*(1-p)**46, p)\n",
    "\n",
    "sympy.solve(d, p)"
   ]
  },
  {
   "cell_type": "code",
   "execution_count": 25,
   "metadata": {},
   "outputs": [
    {
     "name": "stdout",
     "output_type": "stream",
     "text": [
      "0.54\n",
      "0.45999999999999996\n"
     ]
    }
   ],
   "source": [
    "print(27/50)\n",
    "# p = 0.54\n",
    "# 1-p=0.46"
   ]
  },
  {
   "cell_type": "code",
   "execution_count": null,
   "metadata": {},
   "outputs": [],
   "source": [
    "# 从而就得到了分布公式\n",
    "# f(n,k) = 0.54**k * 0.46**(n-k)"
   ]
  }
 ],
 "metadata": {
  "kernelspec": {
   "display_name": "Python 3",
   "language": "python",
   "name": "python3"
  },
  "language_info": {
   "codemirror_mode": {
    "name": "ipython",
    "version": 3
   },
   "file_extension": ".py",
   "mimetype": "text/x-python",
   "name": "python",
   "nbconvert_exporter": "python",
   "pygments_lexer": "ipython3",
   "version": "3.6.8"
  }
 },
 "nbformat": 4,
 "nbformat_minor": 2
}
